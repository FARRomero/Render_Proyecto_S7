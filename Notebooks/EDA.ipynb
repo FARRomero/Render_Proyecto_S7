{
 "cells": [
  {
   "cell_type": "code",
   "execution_count": null,
   "id": "8806eb13",
   "metadata": {},
   "outputs": [],
   "source": [
    "#Importar librerías y carga de datos.\n",
    "import pandas as pd\n",
    "import plotly.express as px\n",
    "df = pd.read_csv(\"C:/Users/ffern/Desktop/Sprint 7/Render_Proyecto_S7/bike_sales.csv\")"
   ]
  },
  {
   "cell_type": "code",
   "execution_count": 8,
   "id": "6dc168fc",
   "metadata": {},
   "outputs": [
    {
     "data": {
      "text/html": [
       "<div>\n",
       "<style scoped>\n",
       "    .dataframe tbody tr th:only-of-type {\n",
       "        vertical-align: middle;\n",
       "    }\n",
       "\n",
       "    .dataframe tbody tr th {\n",
       "        vertical-align: top;\n",
       "    }\n",
       "\n",
       "    .dataframe thead th {\n",
       "        text-align: right;\n",
       "    }\n",
       "</style>\n",
       "<table border=\"1\" class=\"dataframe\">\n",
       "  <thead>\n",
       "    <tr style=\"text-align: right;\">\n",
       "      <th></th>\n",
       "      <th>name</th>\n",
       "      <th>selling_price</th>\n",
       "      <th>year</th>\n",
       "      <th>seller_type</th>\n",
       "      <th>owner</th>\n",
       "      <th>km_driven</th>\n",
       "      <th>ex_showroom_price</th>\n",
       "    </tr>\n",
       "  </thead>\n",
       "  <tbody>\n",
       "    <tr>\n",
       "      <th>493</th>\n",
       "      <td>TVS Star City Plus</td>\n",
       "      <td>52000</td>\n",
       "      <td>2017</td>\n",
       "      <td>Individual</td>\n",
       "      <td>1st owner</td>\n",
       "      <td>25000</td>\n",
       "      <td>NaN</td>\n",
       "    </tr>\n",
       "    <tr>\n",
       "      <th>300</th>\n",
       "      <td>Honda CBF Stunner</td>\n",
       "      <td>37000</td>\n",
       "      <td>2014</td>\n",
       "      <td>Individual</td>\n",
       "      <td>1st owner</td>\n",
       "      <td>43000</td>\n",
       "      <td>58757.0</td>\n",
       "    </tr>\n",
       "    <tr>\n",
       "      <th>968</th>\n",
       "      <td>Royal Enfield Thunder 350</td>\n",
       "      <td>120000</td>\n",
       "      <td>2018</td>\n",
       "      <td>Individual</td>\n",
       "      <td>1st owner</td>\n",
       "      <td>18000</td>\n",
       "      <td>150000.0</td>\n",
       "    </tr>\n",
       "    <tr>\n",
       "      <th>395</th>\n",
       "      <td>Bajaj Pulsar 150</td>\n",
       "      <td>35000</td>\n",
       "      <td>2011</td>\n",
       "      <td>Individual</td>\n",
       "      <td>1st owner</td>\n",
       "      <td>35600</td>\n",
       "      <td>NaN</td>\n",
       "    </tr>\n",
       "    <tr>\n",
       "      <th>343</th>\n",
       "      <td>Hero HF Deluxe</td>\n",
       "      <td>35000</td>\n",
       "      <td>2017</td>\n",
       "      <td>Individual</td>\n",
       "      <td>1st owner</td>\n",
       "      <td>27000</td>\n",
       "      <td>NaN</td>\n",
       "    </tr>\n",
       "    <tr>\n",
       "      <th>628</th>\n",
       "      <td>Hero Splendor Plus</td>\n",
       "      <td>25000</td>\n",
       "      <td>2015</td>\n",
       "      <td>Individual</td>\n",
       "      <td>1st owner</td>\n",
       "      <td>45000</td>\n",
       "      <td>NaN</td>\n",
       "    </tr>\n",
       "    <tr>\n",
       "      <th>79</th>\n",
       "      <td>Hero Splendor Plus</td>\n",
       "      <td>35000</td>\n",
       "      <td>2014</td>\n",
       "      <td>Individual</td>\n",
       "      <td>2nd owner</td>\n",
       "      <td>35000</td>\n",
       "      <td>NaN</td>\n",
       "    </tr>\n",
       "    <tr>\n",
       "      <th>672</th>\n",
       "      <td>Yamaha FZ S V 2.0</td>\n",
       "      <td>75000</td>\n",
       "      <td>2017</td>\n",
       "      <td>Individual</td>\n",
       "      <td>1st owner</td>\n",
       "      <td>20000</td>\n",
       "      <td>84042.0</td>\n",
       "    </tr>\n",
       "    <tr>\n",
       "      <th>263</th>\n",
       "      <td>Bajaj Kristal</td>\n",
       "      <td>15000</td>\n",
       "      <td>2007</td>\n",
       "      <td>Individual</td>\n",
       "      <td>1st owner</td>\n",
       "      <td>30000</td>\n",
       "      <td>NaN</td>\n",
       "    </tr>\n",
       "    <tr>\n",
       "      <th>708</th>\n",
       "      <td>Yamaha Fascino 110</td>\n",
       "      <td>55000</td>\n",
       "      <td>2019</td>\n",
       "      <td>Individual</td>\n",
       "      <td>1st owner</td>\n",
       "      <td>7000</td>\n",
       "      <td>57112.0</td>\n",
       "    </tr>\n",
       "  </tbody>\n",
       "</table>\n",
       "</div>"
      ],
      "text/plain": [
       "                          name  selling_price  year seller_type      owner  \\\n",
       "493         TVS Star City Plus          52000  2017  Individual  1st owner   \n",
       "300          Honda CBF Stunner          37000  2014  Individual  1st owner   \n",
       "968  Royal Enfield Thunder 350         120000  2018  Individual  1st owner   \n",
       "395           Bajaj Pulsar 150          35000  2011  Individual  1st owner   \n",
       "343             Hero HF Deluxe          35000  2017  Individual  1st owner   \n",
       "628         Hero Splendor Plus          25000  2015  Individual  1st owner   \n",
       "79          Hero Splendor Plus          35000  2014  Individual  2nd owner   \n",
       "672          Yamaha FZ S V 2.0          75000  2017  Individual  1st owner   \n",
       "263              Bajaj Kristal          15000  2007  Individual  1st owner   \n",
       "708         Yamaha Fascino 110          55000  2019  Individual  1st owner   \n",
       "\n",
       "     km_driven  ex_showroom_price  \n",
       "493      25000                NaN  \n",
       "300      43000            58757.0  \n",
       "968      18000           150000.0  \n",
       "395      35600                NaN  \n",
       "343      27000                NaN  \n",
       "628      45000                NaN  \n",
       "79       35000                NaN  \n",
       "672      20000            84042.0  \n",
       "263      30000                NaN  \n",
       "708       7000            57112.0  "
      ]
     },
     "execution_count": 8,
     "metadata": {},
     "output_type": "execute_result"
    }
   ],
   "source": [
    "#Muestra aleatoria del dataframe.\n",
    "df.sample(10)"
   ]
  },
  {
   "cell_type": "code",
   "execution_count": 10,
   "id": "afcad763",
   "metadata": {},
   "outputs": [
    {
     "data": {
      "application/vnd.plotly.v1+json": {
       "config": {
        "plotlyServerURL": "https://plot.ly"
       },
       "data": [
        {
         "bingroup": "x",
         "hovertemplate": "km_driven=%{x}<br>count=%{y}<extra></extra>",
         "legendgroup": "",
         "marker": {
          "color": "#636efa",
          "pattern": {
           "shape": ""
          }
         },
         "name": "",
         "orientation": "v",
         "showlegend": false,
         "type": "histogram",
         "x": {
          "bdata": "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",
          "dtype": "i4"
         },
         "xaxis": "x",
         "yaxis": "y"
        }
       ],
       "layout": {
        "barmode": "relative",
        "legend": {
         "tracegroupgap": 0
        },
        "margin": {
         "t": 60
        },
        "template": {
         "data": {
          "bar": [
           {
            "error_x": {
             "color": "#2a3f5f"
            },
            "error_y": {
             "color": "#2a3f5f"
            },
            "marker": {
             "line": {
              "color": "#E5ECF6",
              "width": 0.5
             },
             "pattern": {
              "fillmode": "overlay",
              "size": 10,
              "solidity": 0.2
             }
            },
            "type": "bar"
           }
          ],
          "barpolar": [
           {
            "marker": {
             "line": {
              "color": "#E5ECF6",
              "width": 0.5
             },
             "pattern": {
              "fillmode": "overlay",
              "size": 10,
              "solidity": 0.2
             }
            },
            "type": "barpolar"
           }
          ],
          "carpet": [
           {
            "aaxis": {
             "endlinecolor": "#2a3f5f",
             "gridcolor": "white",
             "linecolor": "white",
             "minorgridcolor": "white",
             "startlinecolor": "#2a3f5f"
            },
            "baxis": {
             "endlinecolor": "#2a3f5f",
             "gridcolor": "white",
             "linecolor": "white",
             "minorgridcolor": "white",
             "startlinecolor": "#2a3f5f"
            },
            "type": "carpet"
           }
          ],
          "choropleth": [
           {
            "colorbar": {
             "outlinewidth": 0,
             "ticks": ""
            },
            "type": "choropleth"
           }
          ],
          "contour": [
           {
            "colorbar": {
             "outlinewidth": 0,
             "ticks": ""
            },
            "colorscale": [
             [
              0,
              "#0d0887"
             ],
             [
              0.1111111111111111,
              "#46039f"
             ],
             [
              0.2222222222222222,
              "#7201a8"
             ],
             [
              0.3333333333333333,
              "#9c179e"
             ],
             [
              0.4444444444444444,
              "#bd3786"
             ],
             [
              0.5555555555555556,
              "#d8576b"
             ],
             [
              0.6666666666666666,
              "#ed7953"
             ],
             [
              0.7777777777777778,
              "#fb9f3a"
             ],
             [
              0.8888888888888888,
              "#fdca26"
             ],
             [
              1,
              "#f0f921"
             ]
            ],
            "type": "contour"
           }
          ],
          "contourcarpet": [
           {
            "colorbar": {
             "outlinewidth": 0,
             "ticks": ""
            },
            "type": "contourcarpet"
           }
          ],
          "heatmap": [
           {
            "colorbar": {
             "outlinewidth": 0,
             "ticks": ""
            },
            "colorscale": [
             [
              0,
              "#0d0887"
             ],
             [
              0.1111111111111111,
              "#46039f"
             ],
             [
              0.2222222222222222,
              "#7201a8"
             ],
             [
              0.3333333333333333,
              "#9c179e"
             ],
             [
              0.4444444444444444,
              "#bd3786"
             ],
             [
              0.5555555555555556,
              "#d8576b"
             ],
             [
              0.6666666666666666,
              "#ed7953"
             ],
             [
              0.7777777777777778,
              "#fb9f3a"
             ],
             [
              0.8888888888888888,
              "#fdca26"
             ],
             [
              1,
              "#f0f921"
             ]
            ],
            "type": "heatmap"
           }
          ],
          "histogram": [
           {
            "marker": {
             "pattern": {
              "fillmode": "overlay",
              "size": 10,
              "solidity": 0.2
             }
            },
            "type": "histogram"
           }
          ],
          "histogram2d": [
           {
            "colorbar": {
             "outlinewidth": 0,
             "ticks": ""
            },
            "colorscale": [
             [
              0,
              "#0d0887"
             ],
             [
              0.1111111111111111,
              "#46039f"
             ],
             [
              0.2222222222222222,
              "#7201a8"
             ],
             [
              0.3333333333333333,
              "#9c179e"
             ],
             [
              0.4444444444444444,
              "#bd3786"
             ],
             [
              0.5555555555555556,
              "#d8576b"
             ],
             [
              0.6666666666666666,
              "#ed7953"
             ],
             [
              0.7777777777777778,
              "#fb9f3a"
             ],
             [
              0.8888888888888888,
              "#fdca26"
             ],
             [
              1,
              "#f0f921"
             ]
            ],
            "type": "histogram2d"
           }
          ],
          "histogram2dcontour": [
           {
            "colorbar": {
             "outlinewidth": 0,
             "ticks": ""
            },
            "colorscale": [
             [
              0,
              "#0d0887"
             ],
             [
              0.1111111111111111,
              "#46039f"
             ],
             [
              0.2222222222222222,
              "#7201a8"
             ],
             [
              0.3333333333333333,
              "#9c179e"
             ],
             [
              0.4444444444444444,
              "#bd3786"
             ],
             [
              0.5555555555555556,
              "#d8576b"
             ],
             [
              0.6666666666666666,
              "#ed7953"
             ],
             [
              0.7777777777777778,
              "#fb9f3a"
             ],
             [
              0.8888888888888888,
              "#fdca26"
             ],
             [
              1,
              "#f0f921"
             ]
            ],
            "type": "histogram2dcontour"
           }
          ],
          "mesh3d": [
           {
            "colorbar": {
             "outlinewidth": 0,
             "ticks": ""
            },
            "type": "mesh3d"
           }
          ],
          "parcoords": [
           {
            "line": {
             "colorbar": {
              "outlinewidth": 0,
              "ticks": ""
             }
            },
            "type": "parcoords"
           }
          ],
          "pie": [
           {
            "automargin": true,
            "type": "pie"
           }
          ],
          "scatter": [
           {
            "fillpattern": {
             "fillmode": "overlay",
             "size": 10,
             "solidity": 0.2
            },
            "type": "scatter"
           }
          ],
          "scatter3d": [
           {
            "line": {
             "colorbar": {
              "outlinewidth": 0,
              "ticks": ""
             }
            },
            "marker": {
             "colorbar": {
              "outlinewidth": 0,
              "ticks": ""
             }
            },
            "type": "scatter3d"
           }
          ],
          "scattercarpet": [
           {
            "marker": {
             "colorbar": {
              "outlinewidth": 0,
              "ticks": ""
             }
            },
            "type": "scattercarpet"
           }
          ],
          "scattergeo": [
           {
            "marker": {
             "colorbar": {
              "outlinewidth": 0,
              "ticks": ""
             }
            },
            "type": "scattergeo"
           }
          ],
          "scattergl": [
           {
            "marker": {
             "colorbar": {
              "outlinewidth": 0,
              "ticks": ""
             }
            },
            "type": "scattergl"
           }
          ],
          "scattermap": [
           {
            "marker": {
             "colorbar": {
              "outlinewidth": 0,
              "ticks": ""
             }
            },
            "type": "scattermap"
           }
          ],
          "scattermapbox": [
           {
            "marker": {
             "colorbar": {
              "outlinewidth": 0,
              "ticks": ""
             }
            },
            "type": "scattermapbox"
           }
          ],
          "scatterpolar": [
           {
            "marker": {
             "colorbar": {
              "outlinewidth": 0,
              "ticks": ""
             }
            },
            "type": "scatterpolar"
           }
          ],
          "scatterpolargl": [
           {
            "marker": {
             "colorbar": {
              "outlinewidth": 0,
              "ticks": ""
             }
            },
            "type": "scatterpolargl"
           }
          ],
          "scatterternary": [
           {
            "marker": {
             "colorbar": {
              "outlinewidth": 0,
              "ticks": ""
             }
            },
            "type": "scatterternary"
           }
          ],
          "surface": [
           {
            "colorbar": {
             "outlinewidth": 0,
             "ticks": ""
            },
            "colorscale": [
             [
              0,
              "#0d0887"
             ],
             [
              0.1111111111111111,
              "#46039f"
             ],
             [
              0.2222222222222222,
              "#7201a8"
             ],
             [
              0.3333333333333333,
              "#9c179e"
             ],
             [
              0.4444444444444444,
              "#bd3786"
             ],
             [
              0.5555555555555556,
              "#d8576b"
             ],
             [
              0.6666666666666666,
              "#ed7953"
             ],
             [
              0.7777777777777778,
              "#fb9f3a"
             ],
             [
              0.8888888888888888,
              "#fdca26"
             ],
             [
              1,
              "#f0f921"
             ]
            ],
            "type": "surface"
           }
          ],
          "table": [
           {
            "cells": {
             "fill": {
              "color": "#EBF0F8"
             },
             "line": {
              "color": "white"
             }
            },
            "header": {
             "fill": {
              "color": "#C8D4E3"
             },
             "line": {
              "color": "white"
             }
            },
            "type": "table"
           }
          ]
         },
         "layout": {
          "annotationdefaults": {
           "arrowcolor": "#2a3f5f",
           "arrowhead": 0,
           "arrowwidth": 1
          },
          "autotypenumbers": "strict",
          "coloraxis": {
           "colorbar": {
            "outlinewidth": 0,
            "ticks": ""
           }
          },
          "colorscale": {
           "diverging": [
            [
             0,
             "#8e0152"
            ],
            [
             0.1,
             "#c51b7d"
            ],
            [
             0.2,
             "#de77ae"
            ],
            [
             0.3,
             "#f1b6da"
            ],
            [
             0.4,
             "#fde0ef"
            ],
            [
             0.5,
             "#f7f7f7"
            ],
            [
             0.6,
             "#e6f5d0"
            ],
            [
             0.7,
             "#b8e186"
            ],
            [
             0.8,
             "#7fbc41"
            ],
            [
             0.9,
             "#4d9221"
            ],
            [
             1,
             "#276419"
            ]
           ],
           "sequential": [
            [
             0,
             "#0d0887"
            ],
            [
             0.1111111111111111,
             "#46039f"
            ],
            [
             0.2222222222222222,
             "#7201a8"
            ],
            [
             0.3333333333333333,
             "#9c179e"
            ],
            [
             0.4444444444444444,
             "#bd3786"
            ],
            [
             0.5555555555555556,
             "#d8576b"
            ],
            [
             0.6666666666666666,
             "#ed7953"
            ],
            [
             0.7777777777777778,
             "#fb9f3a"
            ],
            [
             0.8888888888888888,
             "#fdca26"
            ],
            [
             1,
             "#f0f921"
            ]
           ],
           "sequentialminus": [
            [
             0,
             "#0d0887"
            ],
            [
             0.1111111111111111,
             "#46039f"
            ],
            [
             0.2222222222222222,
             "#7201a8"
            ],
            [
             0.3333333333333333,
             "#9c179e"
            ],
            [
             0.4444444444444444,
             "#bd3786"
            ],
            [
             0.5555555555555556,
             "#d8576b"
            ],
            [
             0.6666666666666666,
             "#ed7953"
            ],
            [
             0.7777777777777778,
             "#fb9f3a"
            ],
            [
             0.8888888888888888,
             "#fdca26"
            ],
            [
             1,
             "#f0f921"
            ]
           ]
          },
          "colorway": [
           "#636efa",
           "#EF553B",
           "#00cc96",
           "#ab63fa",
           "#FFA15A",
           "#19d3f3",
           "#FF6692",
           "#B6E880",
           "#FF97FF",
           "#FECB52"
          ],
          "font": {
           "color": "#2a3f5f"
          },
          "geo": {
           "bgcolor": "white",
           "lakecolor": "white",
           "landcolor": "#E5ECF6",
           "showlakes": true,
           "showland": true,
           "subunitcolor": "white"
          },
          "hoverlabel": {
           "align": "left"
          },
          "hovermode": "closest",
          "mapbox": {
           "style": "light"
          },
          "paper_bgcolor": "white",
          "plot_bgcolor": "#E5ECF6",
          "polar": {
           "angularaxis": {
            "gridcolor": "white",
            "linecolor": "white",
            "ticks": ""
           },
           "bgcolor": "#E5ECF6",
           "radialaxis": {
            "gridcolor": "white",
            "linecolor": "white",
            "ticks": ""
           }
          },
          "scene": {
           "xaxis": {
            "backgroundcolor": "#E5ECF6",
            "gridcolor": "white",
            "gridwidth": 2,
            "linecolor": "white",
            "showbackground": true,
            "ticks": "",
            "zerolinecolor": "white"
           },
           "yaxis": {
            "backgroundcolor": "#E5ECF6",
            "gridcolor": "white",
            "gridwidth": 2,
            "linecolor": "white",
            "showbackground": true,
            "ticks": "",
            "zerolinecolor": "white"
           },
           "zaxis": {
            "backgroundcolor": "#E5ECF6",
            "gridcolor": "white",
            "gridwidth": 2,
            "linecolor": "white",
            "showbackground": true,
            "ticks": "",
            "zerolinecolor": "white"
           }
          },
          "shapedefaults": {
           "line": {
            "color": "#2a3f5f"
           }
          },
          "ternary": {
           "aaxis": {
            "gridcolor": "white",
            "linecolor": "white",
            "ticks": ""
           },
           "baxis": {
            "gridcolor": "white",
            "linecolor": "white",
            "ticks": ""
           },
           "bgcolor": "#E5ECF6",
           "caxis": {
            "gridcolor": "white",
            "linecolor": "white",
            "ticks": ""
           }
          },
          "title": {
           "x": 0.05
          },
          "xaxis": {
           "automargin": true,
           "gridcolor": "white",
           "linecolor": "white",
           "ticks": "",
           "title": {
            "standoff": 15
           },
           "zerolinecolor": "white",
           "zerolinewidth": 2
          },
          "yaxis": {
           "automargin": true,
           "gridcolor": "white",
           "linecolor": "white",
           "ticks": "",
           "title": {
            "standoff": 15
           },
           "zerolinecolor": "white",
           "zerolinewidth": 2
          }
         }
        },
        "xaxis": {
         "anchor": "y",
         "domain": [
          0,
          1
         ],
         "title": {
          "text": "km_driven"
         }
        },
        "yaxis": {
         "anchor": "x",
         "domain": [
          0,
          1
         ],
         "title": {
          "text": "count"
         }
        }
       }
      }
     },
     "metadata": {},
     "output_type": "display_data"
    }
   ],
   "source": [
    "#Histograma.\n",
    "fig_hist = px.histogram(df, x=\"km_driven\")\n",
    "fig_hist.show()"
   ]
  },
  {
   "cell_type": "code",
   "execution_count": 11,
   "id": "78527ed8",
   "metadata": {},
   "outputs": [
    {
     "data": {
      "application/vnd.plotly.v1+json": {
       "config": {
        "plotlyServerURL": "https://plot.ly"
       },
       "data": [
        {
         "hovertemplate": "km_driven=%{x}<br>selling_price=%{y}<extra></extra>",
         "legendgroup": "",
         "marker": {
          "color": "#636efa",
          "symbol": "circle"
         },
         "mode": "markers",
         "name": "",
         "showlegend": false,
         "type": "scattergl",
         "x": {
          "bdata": "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",
          "dtype": "i4"
         },
         "xaxis": "x",
         "y": {
          "bdata": "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",
          "dtype": "i4"
         },
         "yaxis": "y"
        }
       ],
       "layout": {
        "legend": {
         "tracegroupgap": 0
        },
        "margin": {
         "t": 60
        },
        "template": {
         "data": {
          "bar": [
           {
            "error_x": {
             "color": "#2a3f5f"
            },
            "error_y": {
             "color": "#2a3f5f"
            },
            "marker": {
             "line": {
              "color": "#E5ECF6",
              "width": 0.5
             },
             "pattern": {
              "fillmode": "overlay",
              "size": 10,
              "solidity": 0.2
             }
            },
            "type": "bar"
           }
          ],
          "barpolar": [
           {
            "marker": {
             "line": {
              "color": "#E5ECF6",
              "width": 0.5
             },
             "pattern": {
              "fillmode": "overlay",
              "size": 10,
              "solidity": 0.2
             }
            },
            "type": "barpolar"
           }
          ],
          "carpet": [
           {
            "aaxis": {
             "endlinecolor": "#2a3f5f",
             "gridcolor": "white",
             "linecolor": "white",
             "minorgridcolor": "white",
             "startlinecolor": "#2a3f5f"
            },
            "baxis": {
             "endlinecolor": "#2a3f5f",
             "gridcolor": "white",
             "linecolor": "white",
             "minorgridcolor": "white",
             "startlinecolor": "#2a3f5f"
            },
            "type": "carpet"
           }
          ],
          "choropleth": [
           {
            "colorbar": {
             "outlinewidth": 0,
             "ticks": ""
            },
            "type": "choropleth"
           }
          ],
          "contour": [
           {
            "colorbar": {
             "outlinewidth": 0,
             "ticks": ""
            },
            "colorscale": [
             [
              0,
              "#0d0887"
             ],
             [
              0.1111111111111111,
              "#46039f"
             ],
             [
              0.2222222222222222,
              "#7201a8"
             ],
             [
              0.3333333333333333,
              "#9c179e"
             ],
             [
              0.4444444444444444,
              "#bd3786"
             ],
             [
              0.5555555555555556,
              "#d8576b"
             ],
             [
              0.6666666666666666,
              "#ed7953"
             ],
             [
              0.7777777777777778,
              "#fb9f3a"
             ],
             [
              0.8888888888888888,
              "#fdca26"
             ],
             [
              1,
              "#f0f921"
             ]
            ],
            "type": "contour"
           }
          ],
          "contourcarpet": [
           {
            "colorbar": {
             "outlinewidth": 0,
             "ticks": ""
            },
            "type": "contourcarpet"
           }
          ],
          "heatmap": [
           {
            "colorbar": {
             "outlinewidth": 0,
             "ticks": ""
            },
            "colorscale": [
             [
              0,
              "#0d0887"
             ],
             [
              0.1111111111111111,
              "#46039f"
             ],
             [
              0.2222222222222222,
              "#7201a8"
             ],
             [
              0.3333333333333333,
              "#9c179e"
             ],
             [
              0.4444444444444444,
              "#bd3786"
             ],
             [
              0.5555555555555556,
              "#d8576b"
             ],
             [
              0.6666666666666666,
              "#ed7953"
             ],
             [
              0.7777777777777778,
              "#fb9f3a"
             ],
             [
              0.8888888888888888,
              "#fdca26"
             ],
             [
              1,
              "#f0f921"
             ]
            ],
            "type": "heatmap"
           }
          ],
          "histogram": [
           {
            "marker": {
             "pattern": {
              "fillmode": "overlay",
              "size": 10,
              "solidity": 0.2
             }
            },
            "type": "histogram"
           }
          ],
          "histogram2d": [
           {
            "colorbar": {
             "outlinewidth": 0,
             "ticks": ""
            },
            "colorscale": [
             [
              0,
              "#0d0887"
             ],
             [
              0.1111111111111111,
              "#46039f"
             ],
             [
              0.2222222222222222,
              "#7201a8"
             ],
             [
              0.3333333333333333,
              "#9c179e"
             ],
             [
              0.4444444444444444,
              "#bd3786"
             ],
             [
              0.5555555555555556,
              "#d8576b"
             ],
             [
              0.6666666666666666,
              "#ed7953"
             ],
             [
              0.7777777777777778,
              "#fb9f3a"
             ],
             [
              0.8888888888888888,
              "#fdca26"
             ],
             [
              1,
              "#f0f921"
             ]
            ],
            "type": "histogram2d"
           }
          ],
          "histogram2dcontour": [
           {
            "colorbar": {
             "outlinewidth": 0,
             "ticks": ""
            },
            "colorscale": [
             [
              0,
              "#0d0887"
             ],
             [
              0.1111111111111111,
              "#46039f"
             ],
             [
              0.2222222222222222,
              "#7201a8"
             ],
             [
              0.3333333333333333,
              "#9c179e"
             ],
             [
              0.4444444444444444,
              "#bd3786"
             ],
             [
              0.5555555555555556,
              "#d8576b"
             ],
             [
              0.6666666666666666,
              "#ed7953"
             ],
             [
              0.7777777777777778,
              "#fb9f3a"
             ],
             [
              0.8888888888888888,
              "#fdca26"
             ],
             [
              1,
              "#f0f921"
             ]
            ],
            "type": "histogram2dcontour"
           }
          ],
          "mesh3d": [
           {
            "colorbar": {
             "outlinewidth": 0,
             "ticks": ""
            },
            "type": "mesh3d"
           }
          ],
          "parcoords": [
           {
            "line": {
             "colorbar": {
              "outlinewidth": 0,
              "ticks": ""
             }
            },
            "type": "parcoords"
           }
          ],
          "pie": [
           {
            "automargin": true,
            "type": "pie"
           }
          ],
          "scatter": [
           {
            "fillpattern": {
             "fillmode": "overlay",
             "size": 10,
             "solidity": 0.2
            },
            "type": "scatter"
           }
          ],
          "scatter3d": [
           {
            "line": {
             "colorbar": {
              "outlinewidth": 0,
              "ticks": ""
             }
            },
            "marker": {
             "colorbar": {
              "outlinewidth": 0,
              "ticks": ""
             }
            },
            "type": "scatter3d"
           }
          ],
          "scattercarpet": [
           {
            "marker": {
             "colorbar": {
              "outlinewidth": 0,
              "ticks": ""
             }
            },
            "type": "scattercarpet"
           }
          ],
          "scattergeo": [
           {
            "marker": {
             "colorbar": {
              "outlinewidth": 0,
              "ticks": ""
             }
            },
            "type": "scattergeo"
           }
          ],
          "scattergl": [
           {
            "marker": {
             "colorbar": {
              "outlinewidth": 0,
              "ticks": ""
             }
            },
            "type": "scattergl"
           }
          ],
          "scattermap": [
           {
            "marker": {
             "colorbar": {
              "outlinewidth": 0,
              "ticks": ""
             }
            },
            "type": "scattermap"
           }
          ],
          "scattermapbox": [
           {
            "marker": {
             "colorbar": {
              "outlinewidth": 0,
              "ticks": ""
             }
            },
            "type": "scattermapbox"
           }
          ],
          "scatterpolar": [
           {
            "marker": {
             "colorbar": {
              "outlinewidth": 0,
              "ticks": ""
             }
            },
            "type": "scatterpolar"
           }
          ],
          "scatterpolargl": [
           {
            "marker": {
             "colorbar": {
              "outlinewidth": 0,
              "ticks": ""
             }
            },
            "type": "scatterpolargl"
           }
          ],
          "scatterternary": [
           {
            "marker": {
             "colorbar": {
              "outlinewidth": 0,
              "ticks": ""
             }
            },
            "type": "scatterternary"
           }
          ],
          "surface": [
           {
            "colorbar": {
             "outlinewidth": 0,
             "ticks": ""
            },
            "colorscale": [
             [
              0,
              "#0d0887"
             ],
             [
              0.1111111111111111,
              "#46039f"
             ],
             [
              0.2222222222222222,
              "#7201a8"
             ],
             [
              0.3333333333333333,
              "#9c179e"
             ],
             [
              0.4444444444444444,
              "#bd3786"
             ],
             [
              0.5555555555555556,
              "#d8576b"
             ],
             [
              0.6666666666666666,
              "#ed7953"
             ],
             [
              0.7777777777777778,
              "#fb9f3a"
             ],
             [
              0.8888888888888888,
              "#fdca26"
             ],
             [
              1,
              "#f0f921"
             ]
            ],
            "type": "surface"
           }
          ],
          "table": [
           {
            "cells": {
             "fill": {
              "color": "#EBF0F8"
             },
             "line": {
              "color": "white"
             }
            },
            "header": {
             "fill": {
              "color": "#C8D4E3"
             },
             "line": {
              "color": "white"
             }
            },
            "type": "table"
           }
          ]
         },
         "layout": {
          "annotationdefaults": {
           "arrowcolor": "#2a3f5f",
           "arrowhead": 0,
           "arrowwidth": 1
          },
          "autotypenumbers": "strict",
          "coloraxis": {
           "colorbar": {
            "outlinewidth": 0,
            "ticks": ""
           }
          },
          "colorscale": {
           "diverging": [
            [
             0,
             "#8e0152"
            ],
            [
             0.1,
             "#c51b7d"
            ],
            [
             0.2,
             "#de77ae"
            ],
            [
             0.3,
             "#f1b6da"
            ],
            [
             0.4,
             "#fde0ef"
            ],
            [
             0.5,
             "#f7f7f7"
            ],
            [
             0.6,
             "#e6f5d0"
            ],
            [
             0.7,
             "#b8e186"
            ],
            [
             0.8,
             "#7fbc41"
            ],
            [
             0.9,
             "#4d9221"
            ],
            [
             1,
             "#276419"
            ]
           ],
           "sequential": [
            [
             0,
             "#0d0887"
            ],
            [
             0.1111111111111111,
             "#46039f"
            ],
            [
             0.2222222222222222,
             "#7201a8"
            ],
            [
             0.3333333333333333,
             "#9c179e"
            ],
            [
             0.4444444444444444,
             "#bd3786"
            ],
            [
             0.5555555555555556,
             "#d8576b"
            ],
            [
             0.6666666666666666,
             "#ed7953"
            ],
            [
             0.7777777777777778,
             "#fb9f3a"
            ],
            [
             0.8888888888888888,
             "#fdca26"
            ],
            [
             1,
             "#f0f921"
            ]
           ],
           "sequentialminus": [
            [
             0,
             "#0d0887"
            ],
            [
             0.1111111111111111,
             "#46039f"
            ],
            [
             0.2222222222222222,
             "#7201a8"
            ],
            [
             0.3333333333333333,
             "#9c179e"
            ],
            [
             0.4444444444444444,
             "#bd3786"
            ],
            [
             0.5555555555555556,
             "#d8576b"
            ],
            [
             0.6666666666666666,
             "#ed7953"
            ],
            [
             0.7777777777777778,
             "#fb9f3a"
            ],
            [
             0.8888888888888888,
             "#fdca26"
            ],
            [
             1,
             "#f0f921"
            ]
           ]
          },
          "colorway": [
           "#636efa",
           "#EF553B",
           "#00cc96",
           "#ab63fa",
           "#FFA15A",
           "#19d3f3",
           "#FF6692",
           "#B6E880",
           "#FF97FF",
           "#FECB52"
          ],
          "font": {
           "color": "#2a3f5f"
          },
          "geo": {
           "bgcolor": "white",
           "lakecolor": "white",
           "landcolor": "#E5ECF6",
           "showlakes": true,
           "showland": true,
           "subunitcolor": "white"
          },
          "hoverlabel": {
           "align": "left"
          },
          "hovermode": "closest",
          "mapbox": {
           "style": "light"
          },
          "paper_bgcolor": "white",
          "plot_bgcolor": "#E5ECF6",
          "polar": {
           "angularaxis": {
            "gridcolor": "white",
            "linecolor": "white",
            "ticks": ""
           },
           "bgcolor": "#E5ECF6",
           "radialaxis": {
            "gridcolor": "white",
            "linecolor": "white",
            "ticks": ""
           }
          },
          "scene": {
           "xaxis": {
            "backgroundcolor": "#E5ECF6",
            "gridcolor": "white",
            "gridwidth": 2,
            "linecolor": "white",
            "showbackground": true,
            "ticks": "",
            "zerolinecolor": "white"
           },
           "yaxis": {
            "backgroundcolor": "#E5ECF6",
            "gridcolor": "white",
            "gridwidth": 2,
            "linecolor": "white",
            "showbackground": true,
            "ticks": "",
            "zerolinecolor": "white"
           },
           "zaxis": {
            "backgroundcolor": "#E5ECF6",
            "gridcolor": "white",
            "gridwidth": 2,
            "linecolor": "white",
            "showbackground": true,
            "ticks": "",
            "zerolinecolor": "white"
           }
          },
          "shapedefaults": {
           "line": {
            "color": "#2a3f5f"
           }
          },
          "ternary": {
           "aaxis": {
            "gridcolor": "white",
            "linecolor": "white",
            "ticks": ""
           },
           "baxis": {
            "gridcolor": "white",
            "linecolor": "white",
            "ticks": ""
           },
           "bgcolor": "#E5ECF6",
           "caxis": {
            "gridcolor": "white",
            "linecolor": "white",
            "ticks": ""
           }
          },
          "title": {
           "x": 0.05
          },
          "xaxis": {
           "automargin": true,
           "gridcolor": "white",
           "linecolor": "white",
           "ticks": "",
           "title": {
            "standoff": 15
           },
           "zerolinecolor": "white",
           "zerolinewidth": 2
          },
          "yaxis": {
           "automargin": true,
           "gridcolor": "white",
           "linecolor": "white",
           "ticks": "",
           "title": {
            "standoff": 15
           },
           "zerolinecolor": "white",
           "zerolinewidth": 2
          }
         }
        },
        "xaxis": {
         "anchor": "y",
         "domain": [
          0,
          1
         ],
         "title": {
          "text": "km_driven"
         }
        },
        "yaxis": {
         "anchor": "x",
         "domain": [
          0,
          1
         ],
         "title": {
          "text": "selling_price"
         }
        }
       }
      }
     },
     "metadata": {},
     "output_type": "display_data"
    }
   ],
   "source": [
    "#Gráfico de dispersión.\n",
    "fig_scatter = px.scatter(df, x=\"km_driven\", y=\"selling_price\")\n",
    "fig_scatter.show()"
   ]
  },
  {
   "cell_type": "code",
   "execution_count": null,
   "id": "f613e05f",
   "metadata": {},
   "outputs": [],
   "source": []
  }
 ],
 "metadata": {
  "kernelspec": {
   "display_name": "base",
   "language": "python",
   "name": "python3"
  },
  "language_info": {
   "codemirror_mode": {
    "name": "ipython",
    "version": 3
   },
   "file_extension": ".py",
   "mimetype": "text/x-python",
   "name": "python",
   "nbconvert_exporter": "python",
   "pygments_lexer": "ipython3",
   "version": "3.13.5"
  }
 },
 "nbformat": 4,
 "nbformat_minor": 5
}
